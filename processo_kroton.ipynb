{
  "nbformat": 4,
  "nbformat_minor": 0,
  "metadata": {
    "colab": {
      "name": "processo_kroton.ipynb",
      "provenance": [],
      "collapsed_sections": []
    },
    "kernelspec": {
      "name": "python3",
      "display_name": "Python 3"
    }
  },
  "cells": [
    {
      "cell_type": "code",
      "metadata": {
        "id": "JIEyIQ_2nLUX",
        "colab_type": "code",
        "colab": {}
      },
      "source": [
        "import pandas as pd\n",
        "import matplotlib.pyplot as plt\n",
        "import numpy as np\n",
        "from sklearn.model_selection import train_test_split\n",
        "from sklearn.metrics import accuracy_score"
      ],
      "execution_count": 1,
      "outputs": []
    },
    {
      "cell_type": "markdown",
      "metadata": {
        "id": "57CmZdMTZMVe",
        "colab_type": "text"
      },
      "source": [
        "#Carregamento e análise dos dados"
      ]
    },
    {
      "cell_type": "code",
      "metadata": {
        "id": "z6n1snjPAyRa",
        "colab_type": "code",
        "colab": {}
      },
      "source": [
        "dados = pd.read_csv('/content/case_Formatura.csv',sep=';')\n",
        "dados = dados[:5000] # Limitação para processamento"
      ],
      "execution_count": 2,
      "outputs": []
    },
    {
      "cell_type": "code",
      "metadata": {
        "id": "f4DltaDrbO-k",
        "colab_type": "code",
        "colab": {
          "base_uri": "https://localhost:8080/",
          "height": 394
        },
        "outputId": "36e2f049-53bb-46b7-9bf4-8f75e910a774"
      },
      "source": [
        "dados['SEMESTRE_DIFF'] = dados['SEMESTRES_CURSADOS'] - dados['DURACAO_CURSO']  # Verificação dos semestres teoricos vs real\n",
        "dados.loc[dados['SEMESTRE_DIFF'] < 0, 'SEMESTRE_DIFF'] = 0 # Considerando os semestres negativos como zero\n",
        "dados.head(5)"
      ],
      "execution_count": 3,
      "outputs": [
        {
          "output_type": "execute_result",
          "data": {
            "text/html": [
              "<div>\n",
              "<style scoped>\n",
              "    .dataframe tbody tr th:only-of-type {\n",
              "        vertical-align: middle;\n",
              "    }\n",
              "\n",
              "    .dataframe tbody tr th {\n",
              "        vertical-align: top;\n",
              "    }\n",
              "\n",
              "    .dataframe thead th {\n",
              "        text-align: right;\n",
              "    }\n",
              "</style>\n",
              "<table border=\"1\" class=\"dataframe\">\n",
              "  <thead>\n",
              "    <tr style=\"text-align: right;\">\n",
              "      <th></th>\n",
              "      <th>COD_ALUNO</th>\n",
              "      <th>COD_UNIDADE</th>\n",
              "      <th>COD_TURMA</th>\n",
              "      <th>SEXO</th>\n",
              "      <th>ESTADO_CIVIL</th>\n",
              "      <th>DATA_NASCIMENTO</th>\n",
              "      <th>CIDADE_ALUNO</th>\n",
              "      <th>UF_ALUNO</th>\n",
              "      <th>CEP_ALUNO</th>\n",
              "      <th>COD_CURSO</th>\n",
              "      <th>NOME_CURSO</th>\n",
              "      <th>TURNO_CURSO</th>\n",
              "      <th>DURACAO_CURSO</th>\n",
              "      <th>SITUCAO_MATRICULA</th>\n",
              "      <th>DATA_CONCLUSAO</th>\n",
              "      <th>PERIODOS_TRANCADOS</th>\n",
              "      <th>CH_TOTAL_MATRIZ</th>\n",
              "      <th>NR_TOTAL_DISCIPLINAS</th>\n",
              "      <th>CH_APROVADA</th>\n",
              "      <th>NR_DISC_APROVADA</th>\n",
              "      <th>T_IDADE</th>\n",
              "      <th>NOTA</th>\n",
              "      <th>NOTA_ENEM</th>\n",
              "      <th>POSSUI_ENEM</th>\n",
              "      <th>NRO_REPRO_ACO</th>\n",
              "      <th>NRO_TOTAL_REPRO</th>\n",
              "      <th>NRO_REPRO_NORMAL</th>\n",
              "      <th>SEMESTRES_CURSADOS</th>\n",
              "      <th>POSSUI_FIES</th>\n",
              "      <th>SEMESTRE_DIFF</th>\n",
              "    </tr>\n",
              "  </thead>\n",
              "  <tbody>\n",
              "    <tr>\n",
              "      <th>0</th>\n",
              "      <td>1000055</td>\n",
              "      <td>508</td>\n",
              "      <td>316720151A</td>\n",
              "      <td>2</td>\n",
              "      <td>S</td>\n",
              "      <td>1996-11-19 00:00:00</td>\n",
              "      <td>BETIM</td>\n",
              "      <td>MG</td>\n",
              "      <td>32.661-750</td>\n",
              "      <td>3167</td>\n",
              "      <td>CST em Gestão de Recursos Humanos - N</td>\n",
              "      <td>3</td>\n",
              "      <td>4</td>\n",
              "      <td>Formado</td>\n",
              "      <td>2016-12-23 00:00:00</td>\n",
              "      <td>0</td>\n",
              "      <td>1680</td>\n",
              "      <td>27</td>\n",
              "      <td>1680</td>\n",
              "      <td>27</td>\n",
              "      <td>21</td>\n",
              "      <td>8.711111</td>\n",
              "      <td>537.575</td>\n",
              "      <td>1</td>\n",
              "      <td>NaN</td>\n",
              "      <td>NaN</td>\n",
              "      <td>NaN</td>\n",
              "      <td>4</td>\n",
              "      <td>SIM</td>\n",
              "      <td>0</td>\n",
              "    </tr>\n",
              "    <tr>\n",
              "      <th>1</th>\n",
              "      <td>1000143</td>\n",
              "      <td>550</td>\n",
              "      <td>9917120151A</td>\n",
              "      <td>2</td>\n",
              "      <td>S</td>\n",
              "      <td>1996-09-03 23:00:00</td>\n",
              "      <td>APUCARANA</td>\n",
              "      <td>PR</td>\n",
              "      <td>86.801-040</td>\n",
              "      <td>99171</td>\n",
              "      <td>CST em Gastronomia - M</td>\n",
              "      <td>0</td>\n",
              "      <td>4</td>\n",
              "      <td>Formado</td>\n",
              "      <td>2016-12-16 00:00:00</td>\n",
              "      <td>0</td>\n",
              "      <td>1700</td>\n",
              "      <td>30</td>\n",
              "      <td>1700</td>\n",
              "      <td>30</td>\n",
              "      <td>21</td>\n",
              "      <td>8.140000</td>\n",
              "      <td>421.000</td>\n",
              "      <td>1</td>\n",
              "      <td>NaN</td>\n",
              "      <td>NaN</td>\n",
              "      <td>NaN</td>\n",
              "      <td>4</td>\n",
              "      <td>NAO</td>\n",
              "      <td>0</td>\n",
              "    </tr>\n",
              "    <tr>\n",
              "      <th>2</th>\n",
              "      <td>1000179</td>\n",
              "      <td>1</td>\n",
              "      <td>80820151A</td>\n",
              "      <td>2</td>\n",
              "      <td>S</td>\n",
              "      <td>1950-06-29 23:00:00</td>\n",
              "      <td>CUIABÁ</td>\n",
              "      <td>MT</td>\n",
              "      <td>78.065-900</td>\n",
              "      <td>808</td>\n",
              "      <td>CST em Gastronomia - M</td>\n",
              "      <td>0</td>\n",
              "      <td>4</td>\n",
              "      <td>Formado</td>\n",
              "      <td>2016-12-30 00:00:00</td>\n",
              "      <td>0</td>\n",
              "      <td>1700</td>\n",
              "      <td>30</td>\n",
              "      <td>1700</td>\n",
              "      <td>30</td>\n",
              "      <td>67</td>\n",
              "      <td>8.510000</td>\n",
              "      <td>NaN</td>\n",
              "      <td>0</td>\n",
              "      <td>NaN</td>\n",
              "      <td>NaN</td>\n",
              "      <td>NaN</td>\n",
              "      <td>4</td>\n",
              "      <td>NAO</td>\n",
              "      <td>0</td>\n",
              "    </tr>\n",
              "    <tr>\n",
              "      <th>3</th>\n",
              "      <td>1000210</td>\n",
              "      <td>1</td>\n",
              "      <td>80820151A</td>\n",
              "      <td>2</td>\n",
              "      <td>C</td>\n",
              "      <td>1981-11-23 23:00:00</td>\n",
              "      <td>POCONÉ</td>\n",
              "      <td>MT</td>\n",
              "      <td>78.175-000</td>\n",
              "      <td>808</td>\n",
              "      <td>CST em Gastronomia - M</td>\n",
              "      <td>0</td>\n",
              "      <td>4</td>\n",
              "      <td>Formado</td>\n",
              "      <td>2016-12-30 00:00:00</td>\n",
              "      <td>0</td>\n",
              "      <td>1700</td>\n",
              "      <td>30</td>\n",
              "      <td>1700</td>\n",
              "      <td>30</td>\n",
              "      <td>36</td>\n",
              "      <td>8.456667</td>\n",
              "      <td>NaN</td>\n",
              "      <td>0</td>\n",
              "      <td>NaN</td>\n",
              "      <td>NaN</td>\n",
              "      <td>NaN</td>\n",
              "      <td>4</td>\n",
              "      <td>SIM</td>\n",
              "      <td>0</td>\n",
              "    </tr>\n",
              "    <tr>\n",
              "      <th>4</th>\n",
              "      <td>1000228</td>\n",
              "      <td>6</td>\n",
              "      <td>52220112A</td>\n",
              "      <td>1</td>\n",
              "      <td>S</td>\n",
              "      <td>1979-12-29 23:00:00</td>\n",
              "      <td>SALVADOR</td>\n",
              "      <td>BA</td>\n",
              "      <td>41.250-470</td>\n",
              "      <td>522</td>\n",
              "      <td>Administração - N</td>\n",
              "      <td>3</td>\n",
              "      <td>8</td>\n",
              "      <td>Formado</td>\n",
              "      <td>2015-06-29 23:00:00</td>\n",
              "      <td>0</td>\n",
              "      <td>2970</td>\n",
              "      <td>50</td>\n",
              "      <td>2970</td>\n",
              "      <td>50</td>\n",
              "      <td>37</td>\n",
              "      <td>7.624490</td>\n",
              "      <td>NaN</td>\n",
              "      <td>0</td>\n",
              "      <td>43.0</td>\n",
              "      <td>48.0</td>\n",
              "      <td>5.0</td>\n",
              "      <td>14</td>\n",
              "      <td>NAO</td>\n",
              "      <td>6</td>\n",
              "    </tr>\n",
              "  </tbody>\n",
              "</table>\n",
              "</div>"
            ],
            "text/plain": [
              "   COD_ALUNO  COD_UNIDADE  ... POSSUI_FIES  SEMESTRE_DIFF\n",
              "0    1000055          508  ...         SIM              0\n",
              "1    1000143          550  ...         NAO              0\n",
              "2    1000179            1  ...         NAO              0\n",
              "3    1000210            1  ...         SIM              0\n",
              "4    1000228            6  ...         NAO              6\n",
              "\n",
              "[5 rows x 30 columns]"
            ]
          },
          "metadata": {
            "tags": []
          },
          "execution_count": 3
        }
      ]
    },
    {
      "cell_type": "code",
      "metadata": {
        "id": "geQqEP5KpW7c",
        "colab_type": "code",
        "colab": {
          "base_uri": "https://localhost:8080/",
          "height": 34
        },
        "outputId": "edc69f95-eb1b-4581-8347-f01d9d88a7e1"
      },
      "source": [
        "dados.shape"
      ],
      "execution_count": 4,
      "outputs": [
        {
          "output_type": "execute_result",
          "data": {
            "text/plain": [
              "(5000, 30)"
            ]
          },
          "metadata": {
            "tags": []
          },
          "execution_count": 4
        }
      ]
    },
    {
      "cell_type": "code",
      "metadata": {
        "id": "JPwHgyPt_kMR",
        "colab_type": "code",
        "colab": {
          "base_uri": "https://localhost:8080/",
          "height": 646
        },
        "outputId": "09f49b2b-d1ba-469a-94e2-2eff3906e45a"
      },
      "source": [
        "dados.info()"
      ],
      "execution_count": 5,
      "outputs": [
        {
          "output_type": "stream",
          "text": [
            "<class 'pandas.core.frame.DataFrame'>\n",
            "RangeIndex: 5000 entries, 0 to 4999\n",
            "Data columns (total 30 columns):\n",
            " #   Column                Non-Null Count  Dtype  \n",
            "---  ------                --------------  -----  \n",
            " 0   COD_ALUNO             5000 non-null   int64  \n",
            " 1   COD_UNIDADE           5000 non-null   int64  \n",
            " 2   COD_TURMA             5000 non-null   object \n",
            " 3   SEXO                  5000 non-null   int64  \n",
            " 4   ESTADO_CIVIL          5000 non-null   object \n",
            " 5   DATA_NASCIMENTO       5000 non-null   object \n",
            " 6   CIDADE_ALUNO          5000 non-null   object \n",
            " 7   UF_ALUNO              5000 non-null   object \n",
            " 8   CEP_ALUNO             5000 non-null   object \n",
            " 9   COD_CURSO             5000 non-null   int64  \n",
            " 10  NOME_CURSO            5000 non-null   object \n",
            " 11  TURNO_CURSO           5000 non-null   int64  \n",
            " 12  DURACAO_CURSO         5000 non-null   int64  \n",
            " 13  SITUCAO_MATRICULA     5000 non-null   object \n",
            " 14  DATA_CONCLUSAO        5000 non-null   object \n",
            " 15  PERIODOS_TRANCADOS    5000 non-null   int64  \n",
            " 16  CH_TOTAL_MATRIZ       5000 non-null   int64  \n",
            " 17  NR_TOTAL_DISCIPLINAS  5000 non-null   int64  \n",
            " 18  CH_APROVADA           5000 non-null   int64  \n",
            " 19  NR_DISC_APROVADA      5000 non-null   int64  \n",
            " 20  T_IDADE               5000 non-null   int64  \n",
            " 21  NOTA                  5000 non-null   float64\n",
            " 22  NOTA_ENEM             1679 non-null   float64\n",
            " 23  POSSUI_ENEM           5000 non-null   int64  \n",
            " 24  NRO_REPRO_ACO         4242 non-null   float64\n",
            " 25  NRO_TOTAL_REPRO       4242 non-null   float64\n",
            " 26  NRO_REPRO_NORMAL      4242 non-null   float64\n",
            " 27  SEMESTRES_CURSADOS    5000 non-null   int64  \n",
            " 28  POSSUI_FIES           5000 non-null   object \n",
            " 29  SEMESTRE_DIFF         5000 non-null   int64  \n",
            "dtypes: float64(5), int64(15), object(10)\n",
            "memory usage: 1.1+ MB\n"
          ],
          "name": "stdout"
        }
      ]
    },
    {
      "cell_type": "code",
      "metadata": {
        "id": "y8_0eCzScrY2",
        "colab_type": "code",
        "colab": {
          "base_uri": "https://localhost:8080/",
          "height": 689
        },
        "outputId": "8c0b60d9-a117-4e8d-b942-4a29a2438114"
      },
      "source": [
        "dados.corr()"
      ],
      "execution_count": 6,
      "outputs": [
        {
          "output_type": "execute_result",
          "data": {
            "text/html": [
              "<div>\n",
              "<style scoped>\n",
              "    .dataframe tbody tr th:only-of-type {\n",
              "        vertical-align: middle;\n",
              "    }\n",
              "\n",
              "    .dataframe tbody tr th {\n",
              "        vertical-align: top;\n",
              "    }\n",
              "\n",
              "    .dataframe thead th {\n",
              "        text-align: right;\n",
              "    }\n",
              "</style>\n",
              "<table border=\"1\" class=\"dataframe\">\n",
              "  <thead>\n",
              "    <tr style=\"text-align: right;\">\n",
              "      <th></th>\n",
              "      <th>COD_ALUNO</th>\n",
              "      <th>COD_UNIDADE</th>\n",
              "      <th>SEXO</th>\n",
              "      <th>COD_CURSO</th>\n",
              "      <th>TURNO_CURSO</th>\n",
              "      <th>DURACAO_CURSO</th>\n",
              "      <th>PERIODOS_TRANCADOS</th>\n",
              "      <th>CH_TOTAL_MATRIZ</th>\n",
              "      <th>NR_TOTAL_DISCIPLINAS</th>\n",
              "      <th>CH_APROVADA</th>\n",
              "      <th>NR_DISC_APROVADA</th>\n",
              "      <th>T_IDADE</th>\n",
              "      <th>NOTA</th>\n",
              "      <th>NOTA_ENEM</th>\n",
              "      <th>POSSUI_ENEM</th>\n",
              "      <th>NRO_REPRO_ACO</th>\n",
              "      <th>NRO_TOTAL_REPRO</th>\n",
              "      <th>NRO_REPRO_NORMAL</th>\n",
              "      <th>SEMESTRES_CURSADOS</th>\n",
              "      <th>SEMESTRE_DIFF</th>\n",
              "    </tr>\n",
              "  </thead>\n",
              "  <tbody>\n",
              "    <tr>\n",
              "      <th>COD_ALUNO</th>\n",
              "      <td>1.000000</td>\n",
              "      <td>-0.109009</td>\n",
              "      <td>-0.017893</td>\n",
              "      <td>-0.360135</td>\n",
              "      <td>0.157473</td>\n",
              "      <td>-0.446676</td>\n",
              "      <td>-0.065009</td>\n",
              "      <td>-0.378636</td>\n",
              "      <td>-0.403375</td>\n",
              "      <td>-0.378843</td>\n",
              "      <td>-0.403036</td>\n",
              "      <td>0.145194</td>\n",
              "      <td>0.130688</td>\n",
              "      <td>0.009544</td>\n",
              "      <td>0.191554</td>\n",
              "      <td>-0.050927</td>\n",
              "      <td>-0.020145</td>\n",
              "      <td>0.042727</td>\n",
              "      <td>0.026144</td>\n",
              "      <td>0.411570</td>\n",
              "    </tr>\n",
              "    <tr>\n",
              "      <th>COD_UNIDADE</th>\n",
              "      <td>-0.109009</td>\n",
              "      <td>1.000000</td>\n",
              "      <td>-0.021311</td>\n",
              "      <td>0.868730</td>\n",
              "      <td>0.270002</td>\n",
              "      <td>-0.220666</td>\n",
              "      <td>-0.167079</td>\n",
              "      <td>-0.339828</td>\n",
              "      <td>-0.190548</td>\n",
              "      <td>-0.339312</td>\n",
              "      <td>-0.190021</td>\n",
              "      <td>-0.204279</td>\n",
              "      <td>0.028877</td>\n",
              "      <td>0.072195</td>\n",
              "      <td>0.103824</td>\n",
              "      <td>-0.243980</td>\n",
              "      <td>-0.320471</td>\n",
              "      <td>-0.317757</td>\n",
              "      <td>-0.338371</td>\n",
              "      <td>-0.294534</td>\n",
              "    </tr>\n",
              "    <tr>\n",
              "      <th>SEXO</th>\n",
              "      <td>-0.017893</td>\n",
              "      <td>-0.021311</td>\n",
              "      <td>1.000000</td>\n",
              "      <td>-0.005298</td>\n",
              "      <td>-0.047804</td>\n",
              "      <td>-0.051092</td>\n",
              "      <td>-0.018611</td>\n",
              "      <td>-0.017789</td>\n",
              "      <td>-0.063505</td>\n",
              "      <td>-0.018483</td>\n",
              "      <td>-0.064334</td>\n",
              "      <td>-0.037593</td>\n",
              "      <td>0.093279</td>\n",
              "      <td>-0.188019</td>\n",
              "      <td>0.025622</td>\n",
              "      <td>-0.072462</td>\n",
              "      <td>-0.093167</td>\n",
              "      <td>-0.089676</td>\n",
              "      <td>-0.089127</td>\n",
              "      <td>-0.083260</td>\n",
              "    </tr>\n",
              "    <tr>\n",
              "      <th>COD_CURSO</th>\n",
              "      <td>-0.360135</td>\n",
              "      <td>0.868730</td>\n",
              "      <td>-0.005298</td>\n",
              "      <td>1.000000</td>\n",
              "      <td>0.219800</td>\n",
              "      <td>-0.044382</td>\n",
              "      <td>-0.130546</td>\n",
              "      <td>-0.195734</td>\n",
              "      <td>-0.021915</td>\n",
              "      <td>-0.195649</td>\n",
              "      <td>-0.022198</td>\n",
              "      <td>-0.214225</td>\n",
              "      <td>-0.020338</td>\n",
              "      <td>0.055264</td>\n",
              "      <td>0.017156</td>\n",
              "      <td>-0.181644</td>\n",
              "      <td>-0.260199</td>\n",
              "      <td>-0.286974</td>\n",
              "      <td>-0.264707</td>\n",
              "      <td>-0.338077</td>\n",
              "    </tr>\n",
              "    <tr>\n",
              "      <th>TURNO_CURSO</th>\n",
              "      <td>0.157473</td>\n",
              "      <td>0.270002</td>\n",
              "      <td>-0.047804</td>\n",
              "      <td>0.219800</td>\n",
              "      <td>1.000000</td>\n",
              "      <td>-0.205871</td>\n",
              "      <td>-0.046258</td>\n",
              "      <td>-0.313986</td>\n",
              "      <td>-0.179012</td>\n",
              "      <td>-0.314232</td>\n",
              "      <td>-0.179518</td>\n",
              "      <td>0.021594</td>\n",
              "      <td>0.033227</td>\n",
              "      <td>-0.029537</td>\n",
              "      <td>0.107716</td>\n",
              "      <td>-0.020195</td>\n",
              "      <td>-0.071455</td>\n",
              "      <td>-0.131110</td>\n",
              "      <td>-0.106130</td>\n",
              "      <td>0.022221</td>\n",
              "    </tr>\n",
              "    <tr>\n",
              "      <th>DURACAO_CURSO</th>\n",
              "      <td>-0.446676</td>\n",
              "      <td>-0.220666</td>\n",
              "      <td>-0.051092</td>\n",
              "      <td>-0.044382</td>\n",
              "      <td>-0.205871</td>\n",
              "      <td>1.000000</td>\n",
              "      <td>0.110536</td>\n",
              "      <td>0.843136</td>\n",
              "      <td>0.927126</td>\n",
              "      <td>0.842250</td>\n",
              "      <td>0.925432</td>\n",
              "      <td>-0.011240</td>\n",
              "      <td>-0.271139</td>\n",
              "      <td>0.057428</td>\n",
              "      <td>-0.283902</td>\n",
              "      <td>0.408339</td>\n",
              "      <td>0.429584</td>\n",
              "      <td>0.282731</td>\n",
              "      <td>0.719508</td>\n",
              "      <td>0.181805</td>\n",
              "    </tr>\n",
              "    <tr>\n",
              "      <th>PERIODOS_TRANCADOS</th>\n",
              "      <td>-0.065009</td>\n",
              "      <td>-0.167079</td>\n",
              "      <td>-0.018611</td>\n",
              "      <td>-0.130546</td>\n",
              "      <td>-0.046258</td>\n",
              "      <td>0.110536</td>\n",
              "      <td>1.000000</td>\n",
              "      <td>0.069953</td>\n",
              "      <td>0.108349</td>\n",
              "      <td>0.069446</td>\n",
              "      <td>0.107617</td>\n",
              "      <td>0.076601</td>\n",
              "      <td>-0.072126</td>\n",
              "      <td>0.000602</td>\n",
              "      <td>-0.073324</td>\n",
              "      <td>0.084363</td>\n",
              "      <td>0.130959</td>\n",
              "      <td>0.156872</td>\n",
              "      <td>0.229100</td>\n",
              "      <td>0.231905</td>\n",
              "    </tr>\n",
              "    <tr>\n",
              "      <th>CH_TOTAL_MATRIZ</th>\n",
              "      <td>-0.378636</td>\n",
              "      <td>-0.339828</td>\n",
              "      <td>-0.017789</td>\n",
              "      <td>-0.195734</td>\n",
              "      <td>-0.313986</td>\n",
              "      <td>0.843136</td>\n",
              "      <td>0.069953</td>\n",
              "      <td>1.000000</td>\n",
              "      <td>0.730211</td>\n",
              "      <td>0.999170</td>\n",
              "      <td>0.729238</td>\n",
              "      <td>0.007228</td>\n",
              "      <td>-0.248496</td>\n",
              "      <td>0.034974</td>\n",
              "      <td>-0.273043</td>\n",
              "      <td>0.182880</td>\n",
              "      <td>0.231516</td>\n",
              "      <td>0.217888</td>\n",
              "      <td>0.602513</td>\n",
              "      <td>0.147105</td>\n",
              "    </tr>\n",
              "    <tr>\n",
              "      <th>NR_TOTAL_DISCIPLINAS</th>\n",
              "      <td>-0.403375</td>\n",
              "      <td>-0.190548</td>\n",
              "      <td>-0.063505</td>\n",
              "      <td>-0.021915</td>\n",
              "      <td>-0.179012</td>\n",
              "      <td>0.927126</td>\n",
              "      <td>0.108349</td>\n",
              "      <td>0.730211</td>\n",
              "      <td>1.000000</td>\n",
              "      <td>0.729519</td>\n",
              "      <td>0.998195</td>\n",
              "      <td>-0.005449</td>\n",
              "      <td>-0.254227</td>\n",
              "      <td>0.046650</td>\n",
              "      <td>-0.301340</td>\n",
              "      <td>0.406660</td>\n",
              "      <td>0.433195</td>\n",
              "      <td>0.294115</td>\n",
              "      <td>0.695581</td>\n",
              "      <td>0.208385</td>\n",
              "    </tr>\n",
              "    <tr>\n",
              "      <th>CH_APROVADA</th>\n",
              "      <td>-0.378843</td>\n",
              "      <td>-0.339312</td>\n",
              "      <td>-0.018483</td>\n",
              "      <td>-0.195649</td>\n",
              "      <td>-0.314232</td>\n",
              "      <td>0.842250</td>\n",
              "      <td>0.069446</td>\n",
              "      <td>0.999170</td>\n",
              "      <td>0.729519</td>\n",
              "      <td>1.000000</td>\n",
              "      <td>0.730957</td>\n",
              "      <td>0.006699</td>\n",
              "      <td>-0.246794</td>\n",
              "      <td>0.034404</td>\n",
              "      <td>-0.272469</td>\n",
              "      <td>0.182509</td>\n",
              "      <td>0.230775</td>\n",
              "      <td>0.216812</td>\n",
              "      <td>0.600071</td>\n",
              "      <td>0.144389</td>\n",
              "    </tr>\n",
              "    <tr>\n",
              "      <th>NR_DISC_APROVADA</th>\n",
              "      <td>-0.403036</td>\n",
              "      <td>-0.190021</td>\n",
              "      <td>-0.064334</td>\n",
              "      <td>-0.022198</td>\n",
              "      <td>-0.179518</td>\n",
              "      <td>0.925432</td>\n",
              "      <td>0.107617</td>\n",
              "      <td>0.729238</td>\n",
              "      <td>0.998195</td>\n",
              "      <td>0.730957</td>\n",
              "      <td>1.000000</td>\n",
              "      <td>-0.005927</td>\n",
              "      <td>-0.251462</td>\n",
              "      <td>0.046221</td>\n",
              "      <td>-0.300556</td>\n",
              "      <td>0.405741</td>\n",
              "      <td>0.431800</td>\n",
              "      <td>0.292479</td>\n",
              "      <td>0.692043</td>\n",
              "      <td>0.204794</td>\n",
              "    </tr>\n",
              "    <tr>\n",
              "      <th>T_IDADE</th>\n",
              "      <td>0.145194</td>\n",
              "      <td>-0.204279</td>\n",
              "      <td>-0.037593</td>\n",
              "      <td>-0.214225</td>\n",
              "      <td>0.021594</td>\n",
              "      <td>-0.011240</td>\n",
              "      <td>0.076601</td>\n",
              "      <td>0.007228</td>\n",
              "      <td>-0.005449</td>\n",
              "      <td>0.006699</td>\n",
              "      <td>-0.005927</td>\n",
              "      <td>1.000000</td>\n",
              "      <td>-0.017243</td>\n",
              "      <td>-0.008036</td>\n",
              "      <td>-0.236581</td>\n",
              "      <td>0.025682</td>\n",
              "      <td>0.064160</td>\n",
              "      <td>0.104426</td>\n",
              "      <td>0.171303</td>\n",
              "      <td>0.251845</td>\n",
              "    </tr>\n",
              "    <tr>\n",
              "      <th>NOTA</th>\n",
              "      <td>0.130688</td>\n",
              "      <td>0.028877</td>\n",
              "      <td>0.093279</td>\n",
              "      <td>-0.020338</td>\n",
              "      <td>0.033227</td>\n",
              "      <td>-0.271139</td>\n",
              "      <td>-0.072126</td>\n",
              "      <td>-0.248496</td>\n",
              "      <td>-0.254227</td>\n",
              "      <td>-0.246794</td>\n",
              "      <td>-0.251462</td>\n",
              "      <td>-0.017243</td>\n",
              "      <td>1.000000</td>\n",
              "      <td>0.302719</td>\n",
              "      <td>0.202087</td>\n",
              "      <td>-0.214801</td>\n",
              "      <td>-0.344598</td>\n",
              "      <td>-0.425446</td>\n",
              "      <td>-0.353035</td>\n",
              "      <td>-0.273465</td>\n",
              "    </tr>\n",
              "    <tr>\n",
              "      <th>NOTA_ENEM</th>\n",
              "      <td>0.009544</td>\n",
              "      <td>0.072195</td>\n",
              "      <td>-0.188019</td>\n",
              "      <td>0.055264</td>\n",
              "      <td>-0.029537</td>\n",
              "      <td>0.057428</td>\n",
              "      <td>0.000602</td>\n",
              "      <td>0.034974</td>\n",
              "      <td>0.046650</td>\n",
              "      <td>0.034404</td>\n",
              "      <td>0.046221</td>\n",
              "      <td>-0.008036</td>\n",
              "      <td>0.302719</td>\n",
              "      <td>1.000000</td>\n",
              "      <td>NaN</td>\n",
              "      <td>0.047075</td>\n",
              "      <td>0.028758</td>\n",
              "      <td>-0.033833</td>\n",
              "      <td>0.038386</td>\n",
              "      <td>-0.007393</td>\n",
              "    </tr>\n",
              "    <tr>\n",
              "      <th>POSSUI_ENEM</th>\n",
              "      <td>0.191554</td>\n",
              "      <td>0.103824</td>\n",
              "      <td>0.025622</td>\n",
              "      <td>0.017156</td>\n",
              "      <td>0.107716</td>\n",
              "      <td>-0.283902</td>\n",
              "      <td>-0.073324</td>\n",
              "      <td>-0.273043</td>\n",
              "      <td>-0.301340</td>\n",
              "      <td>-0.272469</td>\n",
              "      <td>-0.300556</td>\n",
              "      <td>-0.236581</td>\n",
              "      <td>0.202087</td>\n",
              "      <td>NaN</td>\n",
              "      <td>1.000000</td>\n",
              "      <td>-0.111051</td>\n",
              "      <td>-0.148653</td>\n",
              "      <td>-0.151132</td>\n",
              "      <td>-0.305564</td>\n",
              "      <td>-0.194723</td>\n",
              "    </tr>\n",
              "    <tr>\n",
              "      <th>NRO_REPRO_ACO</th>\n",
              "      <td>-0.050927</td>\n",
              "      <td>-0.243980</td>\n",
              "      <td>-0.072462</td>\n",
              "      <td>-0.181644</td>\n",
              "      <td>-0.020195</td>\n",
              "      <td>0.408339</td>\n",
              "      <td>0.084363</td>\n",
              "      <td>0.182880</td>\n",
              "      <td>0.406660</td>\n",
              "      <td>0.182509</td>\n",
              "      <td>0.405741</td>\n",
              "      <td>0.025682</td>\n",
              "      <td>-0.214801</td>\n",
              "      <td>0.047075</td>\n",
              "      <td>-0.111051</td>\n",
              "      <td>1.000000</td>\n",
              "      <td>0.918010</td>\n",
              "      <td>0.379761</td>\n",
              "      <td>0.388175</td>\n",
              "      <td>0.211268</td>\n",
              "    </tr>\n",
              "    <tr>\n",
              "      <th>NRO_TOTAL_REPRO</th>\n",
              "      <td>-0.020145</td>\n",
              "      <td>-0.320471</td>\n",
              "      <td>-0.093167</td>\n",
              "      <td>-0.260199</td>\n",
              "      <td>-0.071455</td>\n",
              "      <td>0.429584</td>\n",
              "      <td>0.130959</td>\n",
              "      <td>0.231516</td>\n",
              "      <td>0.433195</td>\n",
              "      <td>0.230775</td>\n",
              "      <td>0.431800</td>\n",
              "      <td>0.064160</td>\n",
              "      <td>-0.344598</td>\n",
              "      <td>0.028758</td>\n",
              "      <td>-0.148653</td>\n",
              "      <td>0.918010</td>\n",
              "      <td>1.000000</td>\n",
              "      <td>0.715474</td>\n",
              "      <td>0.518274</td>\n",
              "      <td>0.370303</td>\n",
              "    </tr>\n",
              "    <tr>\n",
              "      <th>NRO_REPRO_NORMAL</th>\n",
              "      <td>0.042727</td>\n",
              "      <td>-0.317757</td>\n",
              "      <td>-0.089676</td>\n",
              "      <td>-0.286974</td>\n",
              "      <td>-0.131110</td>\n",
              "      <td>0.282731</td>\n",
              "      <td>0.156872</td>\n",
              "      <td>0.217888</td>\n",
              "      <td>0.294115</td>\n",
              "      <td>0.216812</td>\n",
              "      <td>0.292479</td>\n",
              "      <td>0.104426</td>\n",
              "      <td>-0.425446</td>\n",
              "      <td>-0.033833</td>\n",
              "      <td>-0.151132</td>\n",
              "      <td>0.379761</td>\n",
              "      <td>0.715474</td>\n",
              "      <td>1.000000</td>\n",
              "      <td>0.525150</td>\n",
              "      <td>0.491635</td>\n",
              "    </tr>\n",
              "    <tr>\n",
              "      <th>SEMESTRES_CURSADOS</th>\n",
              "      <td>0.026144</td>\n",
              "      <td>-0.338371</td>\n",
              "      <td>-0.089127</td>\n",
              "      <td>-0.264707</td>\n",
              "      <td>-0.106130</td>\n",
              "      <td>0.719508</td>\n",
              "      <td>0.229100</td>\n",
              "      <td>0.602513</td>\n",
              "      <td>0.695581</td>\n",
              "      <td>0.600071</td>\n",
              "      <td>0.692043</td>\n",
              "      <td>0.171303</td>\n",
              "      <td>-0.353035</td>\n",
              "      <td>0.038386</td>\n",
              "      <td>-0.305564</td>\n",
              "      <td>0.388175</td>\n",
              "      <td>0.518274</td>\n",
              "      <td>0.525150</td>\n",
              "      <td>1.000000</td>\n",
              "      <td>0.813606</td>\n",
              "    </tr>\n",
              "    <tr>\n",
              "      <th>SEMESTRE_DIFF</th>\n",
              "      <td>0.411570</td>\n",
              "      <td>-0.294534</td>\n",
              "      <td>-0.083260</td>\n",
              "      <td>-0.338077</td>\n",
              "      <td>0.022221</td>\n",
              "      <td>0.181805</td>\n",
              "      <td>0.231905</td>\n",
              "      <td>0.147105</td>\n",
              "      <td>0.208385</td>\n",
              "      <td>0.144389</td>\n",
              "      <td>0.204794</td>\n",
              "      <td>0.251845</td>\n",
              "      <td>-0.273465</td>\n",
              "      <td>-0.007393</td>\n",
              "      <td>-0.194723</td>\n",
              "      <td>0.211268</td>\n",
              "      <td>0.370303</td>\n",
              "      <td>0.491635</td>\n",
              "      <td>0.813606</td>\n",
              "      <td>1.000000</td>\n",
              "    </tr>\n",
              "  </tbody>\n",
              "</table>\n",
              "</div>"
            ],
            "text/plain": [
              "                      COD_ALUNO  COD_UNIDADE  ...  SEMESTRES_CURSADOS  SEMESTRE_DIFF\n",
              "COD_ALUNO              1.000000    -0.109009  ...            0.026144       0.411570\n",
              "COD_UNIDADE           -0.109009     1.000000  ...           -0.338371      -0.294534\n",
              "SEXO                  -0.017893    -0.021311  ...           -0.089127      -0.083260\n",
              "COD_CURSO             -0.360135     0.868730  ...           -0.264707      -0.338077\n",
              "TURNO_CURSO            0.157473     0.270002  ...           -0.106130       0.022221\n",
              "DURACAO_CURSO         -0.446676    -0.220666  ...            0.719508       0.181805\n",
              "PERIODOS_TRANCADOS    -0.065009    -0.167079  ...            0.229100       0.231905\n",
              "CH_TOTAL_MATRIZ       -0.378636    -0.339828  ...            0.602513       0.147105\n",
              "NR_TOTAL_DISCIPLINAS  -0.403375    -0.190548  ...            0.695581       0.208385\n",
              "CH_APROVADA           -0.378843    -0.339312  ...            0.600071       0.144389\n",
              "NR_DISC_APROVADA      -0.403036    -0.190021  ...            0.692043       0.204794\n",
              "T_IDADE                0.145194    -0.204279  ...            0.171303       0.251845\n",
              "NOTA                   0.130688     0.028877  ...           -0.353035      -0.273465\n",
              "NOTA_ENEM              0.009544     0.072195  ...            0.038386      -0.007393\n",
              "POSSUI_ENEM            0.191554     0.103824  ...           -0.305564      -0.194723\n",
              "NRO_REPRO_ACO         -0.050927    -0.243980  ...            0.388175       0.211268\n",
              "NRO_TOTAL_REPRO       -0.020145    -0.320471  ...            0.518274       0.370303\n",
              "NRO_REPRO_NORMAL       0.042727    -0.317757  ...            0.525150       0.491635\n",
              "SEMESTRES_CURSADOS     0.026144    -0.338371  ...            1.000000       0.813606\n",
              "SEMESTRE_DIFF          0.411570    -0.294534  ...            0.813606       1.000000\n",
              "\n",
              "[20 rows x 20 columns]"
            ]
          },
          "metadata": {
            "tags": []
          },
          "execution_count": 6
        }
      ]
    },
    {
      "cell_type": "markdown",
      "metadata": {
        "id": "cBMrrhIgZsZg",
        "colab_type": "text"
      },
      "source": [
        "#Modificação dos dados nan para 0\n",
        "Como NOTA_ENEM não entrou no modelo, então pude zerar os outros parâmetro"
      ]
    },
    {
      "cell_type": "code",
      "metadata": {
        "id": "qUlLYyBGFr-E",
        "colab_type": "code",
        "colab": {
          "base_uri": "https://localhost:8080/",
          "height": 394
        },
        "outputId": "8a28fc4a-bfa8-4797-eef4-787d21debd53"
      },
      "source": [
        "dados.fillna(0, inplace=True)\n",
        "dados.head(5)"
      ],
      "execution_count": 7,
      "outputs": [
        {
          "output_type": "execute_result",
          "data": {
            "text/html": [
              "<div>\n",
              "<style scoped>\n",
              "    .dataframe tbody tr th:only-of-type {\n",
              "        vertical-align: middle;\n",
              "    }\n",
              "\n",
              "    .dataframe tbody tr th {\n",
              "        vertical-align: top;\n",
              "    }\n",
              "\n",
              "    .dataframe thead th {\n",
              "        text-align: right;\n",
              "    }\n",
              "</style>\n",
              "<table border=\"1\" class=\"dataframe\">\n",
              "  <thead>\n",
              "    <tr style=\"text-align: right;\">\n",
              "      <th></th>\n",
              "      <th>COD_ALUNO</th>\n",
              "      <th>COD_UNIDADE</th>\n",
              "      <th>COD_TURMA</th>\n",
              "      <th>SEXO</th>\n",
              "      <th>ESTADO_CIVIL</th>\n",
              "      <th>DATA_NASCIMENTO</th>\n",
              "      <th>CIDADE_ALUNO</th>\n",
              "      <th>UF_ALUNO</th>\n",
              "      <th>CEP_ALUNO</th>\n",
              "      <th>COD_CURSO</th>\n",
              "      <th>NOME_CURSO</th>\n",
              "      <th>TURNO_CURSO</th>\n",
              "      <th>DURACAO_CURSO</th>\n",
              "      <th>SITUCAO_MATRICULA</th>\n",
              "      <th>DATA_CONCLUSAO</th>\n",
              "      <th>PERIODOS_TRANCADOS</th>\n",
              "      <th>CH_TOTAL_MATRIZ</th>\n",
              "      <th>NR_TOTAL_DISCIPLINAS</th>\n",
              "      <th>CH_APROVADA</th>\n",
              "      <th>NR_DISC_APROVADA</th>\n",
              "      <th>T_IDADE</th>\n",
              "      <th>NOTA</th>\n",
              "      <th>NOTA_ENEM</th>\n",
              "      <th>POSSUI_ENEM</th>\n",
              "      <th>NRO_REPRO_ACO</th>\n",
              "      <th>NRO_TOTAL_REPRO</th>\n",
              "      <th>NRO_REPRO_NORMAL</th>\n",
              "      <th>SEMESTRES_CURSADOS</th>\n",
              "      <th>POSSUI_FIES</th>\n",
              "      <th>SEMESTRE_DIFF</th>\n",
              "    </tr>\n",
              "  </thead>\n",
              "  <tbody>\n",
              "    <tr>\n",
              "      <th>0</th>\n",
              "      <td>1000055</td>\n",
              "      <td>508</td>\n",
              "      <td>316720151A</td>\n",
              "      <td>2</td>\n",
              "      <td>S</td>\n",
              "      <td>1996-11-19 00:00:00</td>\n",
              "      <td>BETIM</td>\n",
              "      <td>MG</td>\n",
              "      <td>32.661-750</td>\n",
              "      <td>3167</td>\n",
              "      <td>CST em Gestão de Recursos Humanos - N</td>\n",
              "      <td>3</td>\n",
              "      <td>4</td>\n",
              "      <td>Formado</td>\n",
              "      <td>2016-12-23 00:00:00</td>\n",
              "      <td>0</td>\n",
              "      <td>1680</td>\n",
              "      <td>27</td>\n",
              "      <td>1680</td>\n",
              "      <td>27</td>\n",
              "      <td>21</td>\n",
              "      <td>8.711111</td>\n",
              "      <td>537.575</td>\n",
              "      <td>1</td>\n",
              "      <td>0.0</td>\n",
              "      <td>0.0</td>\n",
              "      <td>0.0</td>\n",
              "      <td>4</td>\n",
              "      <td>SIM</td>\n",
              "      <td>0</td>\n",
              "    </tr>\n",
              "    <tr>\n",
              "      <th>1</th>\n",
              "      <td>1000143</td>\n",
              "      <td>550</td>\n",
              "      <td>9917120151A</td>\n",
              "      <td>2</td>\n",
              "      <td>S</td>\n",
              "      <td>1996-09-03 23:00:00</td>\n",
              "      <td>APUCARANA</td>\n",
              "      <td>PR</td>\n",
              "      <td>86.801-040</td>\n",
              "      <td>99171</td>\n",
              "      <td>CST em Gastronomia - M</td>\n",
              "      <td>0</td>\n",
              "      <td>4</td>\n",
              "      <td>Formado</td>\n",
              "      <td>2016-12-16 00:00:00</td>\n",
              "      <td>0</td>\n",
              "      <td>1700</td>\n",
              "      <td>30</td>\n",
              "      <td>1700</td>\n",
              "      <td>30</td>\n",
              "      <td>21</td>\n",
              "      <td>8.140000</td>\n",
              "      <td>421.000</td>\n",
              "      <td>1</td>\n",
              "      <td>0.0</td>\n",
              "      <td>0.0</td>\n",
              "      <td>0.0</td>\n",
              "      <td>4</td>\n",
              "      <td>NAO</td>\n",
              "      <td>0</td>\n",
              "    </tr>\n",
              "    <tr>\n",
              "      <th>2</th>\n",
              "      <td>1000179</td>\n",
              "      <td>1</td>\n",
              "      <td>80820151A</td>\n",
              "      <td>2</td>\n",
              "      <td>S</td>\n",
              "      <td>1950-06-29 23:00:00</td>\n",
              "      <td>CUIABÁ</td>\n",
              "      <td>MT</td>\n",
              "      <td>78.065-900</td>\n",
              "      <td>808</td>\n",
              "      <td>CST em Gastronomia - M</td>\n",
              "      <td>0</td>\n",
              "      <td>4</td>\n",
              "      <td>Formado</td>\n",
              "      <td>2016-12-30 00:00:00</td>\n",
              "      <td>0</td>\n",
              "      <td>1700</td>\n",
              "      <td>30</td>\n",
              "      <td>1700</td>\n",
              "      <td>30</td>\n",
              "      <td>67</td>\n",
              "      <td>8.510000</td>\n",
              "      <td>0.000</td>\n",
              "      <td>0</td>\n",
              "      <td>0.0</td>\n",
              "      <td>0.0</td>\n",
              "      <td>0.0</td>\n",
              "      <td>4</td>\n",
              "      <td>NAO</td>\n",
              "      <td>0</td>\n",
              "    </tr>\n",
              "    <tr>\n",
              "      <th>3</th>\n",
              "      <td>1000210</td>\n",
              "      <td>1</td>\n",
              "      <td>80820151A</td>\n",
              "      <td>2</td>\n",
              "      <td>C</td>\n",
              "      <td>1981-11-23 23:00:00</td>\n",
              "      <td>POCONÉ</td>\n",
              "      <td>MT</td>\n",
              "      <td>78.175-000</td>\n",
              "      <td>808</td>\n",
              "      <td>CST em Gastronomia - M</td>\n",
              "      <td>0</td>\n",
              "      <td>4</td>\n",
              "      <td>Formado</td>\n",
              "      <td>2016-12-30 00:00:00</td>\n",
              "      <td>0</td>\n",
              "      <td>1700</td>\n",
              "      <td>30</td>\n",
              "      <td>1700</td>\n",
              "      <td>30</td>\n",
              "      <td>36</td>\n",
              "      <td>8.456667</td>\n",
              "      <td>0.000</td>\n",
              "      <td>0</td>\n",
              "      <td>0.0</td>\n",
              "      <td>0.0</td>\n",
              "      <td>0.0</td>\n",
              "      <td>4</td>\n",
              "      <td>SIM</td>\n",
              "      <td>0</td>\n",
              "    </tr>\n",
              "    <tr>\n",
              "      <th>4</th>\n",
              "      <td>1000228</td>\n",
              "      <td>6</td>\n",
              "      <td>52220112A</td>\n",
              "      <td>1</td>\n",
              "      <td>S</td>\n",
              "      <td>1979-12-29 23:00:00</td>\n",
              "      <td>SALVADOR</td>\n",
              "      <td>BA</td>\n",
              "      <td>41.250-470</td>\n",
              "      <td>522</td>\n",
              "      <td>Administração - N</td>\n",
              "      <td>3</td>\n",
              "      <td>8</td>\n",
              "      <td>Formado</td>\n",
              "      <td>2015-06-29 23:00:00</td>\n",
              "      <td>0</td>\n",
              "      <td>2970</td>\n",
              "      <td>50</td>\n",
              "      <td>2970</td>\n",
              "      <td>50</td>\n",
              "      <td>37</td>\n",
              "      <td>7.624490</td>\n",
              "      <td>0.000</td>\n",
              "      <td>0</td>\n",
              "      <td>43.0</td>\n",
              "      <td>48.0</td>\n",
              "      <td>5.0</td>\n",
              "      <td>14</td>\n",
              "      <td>NAO</td>\n",
              "      <td>6</td>\n",
              "    </tr>\n",
              "  </tbody>\n",
              "</table>\n",
              "</div>"
            ],
            "text/plain": [
              "   COD_ALUNO  COD_UNIDADE  ... POSSUI_FIES  SEMESTRE_DIFF\n",
              "0    1000055          508  ...         SIM              0\n",
              "1    1000143          550  ...         NAO              0\n",
              "2    1000179            1  ...         NAO              0\n",
              "3    1000210            1  ...         SIM              0\n",
              "4    1000228            6  ...         NAO              6\n",
              "\n",
              "[5 rows x 30 columns]"
            ]
          },
          "metadata": {
            "tags": []
          },
          "execution_count": 7
        }
      ]
    },
    {
      "cell_type": "markdown",
      "metadata": {
        "id": "-TfnBxDfaceT",
        "colab_type": "text"
      },
      "source": [
        "#Formatando dados para treino e normalizando eles"
      ]
    },
    {
      "cell_type": "code",
      "metadata": {
        "id": "QU68N8nT8_Ae",
        "colab_type": "code",
        "colab": {
          "base_uri": "https://localhost:8080/",
          "height": 238
        },
        "outputId": "771a9a01-2efc-485f-ab91-055be81e94e5"
      },
      "source": [
        "# Seleção das colunas que apresentaram uma correlação maior com SEMESTRE_DIFF\n",
        "X = dados[\n",
        "    [\n",
        "        'DURACAO_CURSO',\n",
        "        'PERIODOS_TRANCADOS',\n",
        "        'NOTA',\n",
        "        'NRO_TOTAL_REPRO',\n",
        "        'NRO_REPRO_NORMAL',\n",
        "        'NRO_REPRO_ACO',\n",
        "        'TURNO_CURSO',\n",
        "        'COD_CURSO'\n",
        "    ]\n",
        "].values\n",
        "print(X)"
      ],
      "execution_count": 8,
      "outputs": [
        {
          "output_type": "stream",
          "text": [
            "[[4.00000000e+00 0.00000000e+00 8.71111111e+00 ... 0.00000000e+00\n",
            "  3.00000000e+00 3.16700000e+03]\n",
            " [4.00000000e+00 0.00000000e+00 8.14000000e+00 ... 0.00000000e+00\n",
            "  0.00000000e+00 9.91710000e+04]\n",
            " [4.00000000e+00 0.00000000e+00 8.51000000e+00 ... 0.00000000e+00\n",
            "  0.00000000e+00 8.08000000e+02]\n",
            " ...\n",
            " [5.00000000e+00 0.00000000e+00 8.13684210e+00 ... 3.00000000e+00\n",
            "  3.00000000e+00 9.91740000e+04]\n",
            " [4.00000000e+00 0.00000000e+00 7.86333333e+00 ... 0.00000000e+00\n",
            "  3.00000000e+00 9.91890000e+04]\n",
            " [8.00000000e+00 0.00000000e+00 7.52615385e+00 ... 2.90000000e+01\n",
            "  3.00000000e+00 9.92090000e+04]]\n"
          ],
          "name": "stdout"
        }
      ]
    },
    {
      "cell_type": "code",
      "metadata": {
        "id": "7JMfqT9-84k4",
        "colab_type": "code",
        "colab": {}
      },
      "source": [
        "y = dados[ 'SEMESTRE_DIFF'].values"
      ],
      "execution_count": 9,
      "outputs": []
    },
    {
      "cell_type": "code",
      "metadata": {
        "id": "-7CNuzrl9-RW",
        "colab_type": "code",
        "colab": {
          "base_uri": "https://localhost:8080/",
          "height": 136
        },
        "outputId": "6b80cc31-fe45-4681-8d46-cf674864156a"
      },
      "source": [
        "X = X/np.amax(X,axis=0)\n",
        "print(X, len(X))"
      ],
      "execution_count": 10,
      "outputs": [
        {
          "output_type": "stream",
          "text": [
            "[[0.33333333 0.         0.91180461 ... 0.         1.         0.03188137]\n",
            " [0.33333333 0.         0.85202559 ... 0.         0.         0.99832892]\n",
            " [0.33333333 0.         0.89075402 ... 0.         0.         0.00813393]\n",
            " ...\n",
            " [0.41666667 0.         0.85169504 ... 0.03191489 1.         0.99835912]\n",
            " [0.33333333 0.         0.82306649 ... 0.         1.         0.99851012]\n",
            " [0.66666667 0.         0.78777342 ... 0.30851064 1.         0.99871146]] 5000\n"
          ],
          "name": "stdout"
        }
      ]
    },
    {
      "cell_type": "code",
      "metadata": {
        "id": "55F35ngW-szs",
        "colab_type": "code",
        "colab": {
          "base_uri": "https://localhost:8080/",
          "height": 34
        },
        "outputId": "b704909b-f94d-4141-e4d6-bef88779f2bf"
      },
      "source": [
        "ymax=np.amax(y)\n",
        "y = y/ymax\n",
        "print(y, len (y))"
      ],
      "execution_count": 11,
      "outputs": [
        {
          "output_type": "stream",
          "text": [
            "[0.         0.         0.         ... 0.04166667 0.         0.08333333] 5000\n"
          ],
          "name": "stdout"
        }
      ]
    },
    {
      "cell_type": "markdown",
      "metadata": {
        "id": "SnHRVDKSczKN",
        "colab_type": "text"
      },
      "source": [
        "#Criando as funções de ativação"
      ]
    },
    {
      "cell_type": "code",
      "metadata": {
        "id": "STfdRDHG-ycV",
        "colab_type": "code",
        "colab": {}
      },
      "source": [
        "def sigmoid(Soma):\n",
        "    return 1/(1+np.exp(-Soma))\n",
        "\n",
        "def relu(Soma):\n",
        "    return np.maximum(0,Soma)"
      ],
      "execution_count": 12,
      "outputs": []
    },
    {
      "cell_type": "markdown",
      "metadata": {
        "id": "pt7_nX-gc44E",
        "colab_type": "text"
      },
      "source": [
        "#Arquitetura da Rede\n",
        "Ela é composta de uma camada de entrada com 8 entradas, mais quatro camadas ocultas e uma saida, essa arquitetura tem a ideia de expandir as entradas e fazer a redução para uma unica saida"
      ]
    },
    {
      "cell_type": "code",
      "metadata": {
        "id": "pCRyskWe-1xz",
        "colab_type": "code",
        "colab": {}
      },
      "source": [
        "arquitetura = [\n",
        "    {\"dim_entrada\": 8, \"dim_saida\": 100, \"ativacao\": \"relu\"},\n",
        "    {\"dim_entrada\": 100, \"dim_saida\": 1000, \"ativacao\": \"relu\"},\n",
        "    {\"dim_entrada\": 1000, \"dim_saida\": 100, \"ativacao\": \"relu\"},    \n",
        "    {\"dim_entrada\": 100, \"dim_saida\": 200, \"ativacao\": \"relu\"},\n",
        "    {\"dim_entrada\": 200, \"dim_saida\": 1, \"ativacao\": \"sigmoid\"}    \n",
        "]"
      ],
      "execution_count": 13,
      "outputs": []
    },
    {
      "cell_type": "markdown",
      "metadata": {
        "id": "lrA_jFIydraZ",
        "colab_type": "text"
      },
      "source": [
        "#Funções para iniciar as camadas e veriicar ativação, podem retornar o custo ou não\n",
        "O seed é para manter o teste controlado, para que não haja problemas com corte de dados diferentes"
      ]
    },
    {
      "cell_type": "code",
      "metadata": {
        "id": "i7cFy1Cb-6CE",
        "colab_type": "code",
        "colab": {}
      },
      "source": [
        "def inicia_camadas(arquitetura, seed = 99):\n",
        "    # inicia os valores aleatórios\n",
        "    np.random.seed(seed)\n",
        "    # numero de camadas da rede neural\n",
        "    numero_de_camadas = len(arquitetura)\n",
        "    # inicia armazenamento de parametros\n",
        "    valores_parametros = {}\n",
        "    \n",
        "    # itera nas camadas da rede\n",
        "    for indice, camada in enumerate(arquitetura):\n",
        "        \n",
        "        indice_camada = indice + 1\n",
        "        \n",
        "        # extrai o numero de nodos nas camadas\n",
        "        tamanho_camada_entrada = camada[\"dim_entrada\"]\n",
        "        tamanho_camada_saida = camada[\"dim_saida\"]\n",
        "        \n",
        "        # inicia os valores na matriz de pesos P\n",
        "        # e o vetor de viés ou bias b\n",
        "        valores_parametros['P' + str(indice_camada)] = np.random.randn(\n",
        "            tamanho_camada_saida, tamanho_camada_entrada)  * 0.1\n",
        "        valores_parametros['b' + str(indice_camada)] = np.random.randn(\n",
        "            tamanho_camada_saida, 1) * 0.1\n",
        "        \n",
        "    return valores_parametros"
      ],
      "execution_count": 14,
      "outputs": []
    },
    {
      "cell_type": "code",
      "metadata": {
        "id": "M8NwIv39_Bqc",
        "colab_type": "code",
        "colab": {}
      },
      "source": [
        "def propaga_uma_camada(Ativado_anterior, Pesos_atual, b_atual, ativacao=\"relu\"):\n",
        "    # cálculo da entrada para a função de ativação\n",
        "    Saida_atual = np.dot(Pesos_atual, Ativado_anterior) + b_atual\n",
        "    \n",
        "    # selecção da função de ativação\n",
        "    if ativacao is \"relu\":\n",
        "        func_ativacao = relu\n",
        "    elif ativacao is \"sigmoid\":\n",
        "        func_ativacao = sigmoid\n",
        "    else:\n",
        "        raise Exception('Ainda não implementamos essa funcao')\n",
        "        \n",
        "    # retorna a ativação calculada Ativado_atual e a matriz intermediária Saida\n",
        "    return func_ativacao(Saida_atual), Saida_atual"
      ],
      "execution_count": 15,
      "outputs": []
    },
    {
      "cell_type": "code",
      "metadata": {
        "id": "xlnolc3u_Hlw",
        "colab_type": "code",
        "colab": {}
      },
      "source": [
        "def propaga_total(X, valores_parametros, arquitetura):\n",
        "    # memoria temporaria para a retropropagacao\n",
        "    memoria = {}\n",
        "    # O vetor X é a ativação para a camada 0 \n",
        "    Ativado_atual = X\n",
        "    \n",
        "    # iterações para as camadas\n",
        "    for indice, camada in enumerate(arquitetura):\n",
        "        # a numeração das camadas começa de 1\n",
        "        indice_camada = indice + 1\n",
        "        # utiliza a ativação da iteração anterior\n",
        "        Ativado_anterior = Ativado_atual\n",
        "        \n",
        "        # extrai a função de ativação para a camada atual\n",
        "        func_ativacao_atual = camada[\"ativacao\"]\n",
        "        # extrai os pesos da camada atual\n",
        "        Pesos_atual = valores_parametros[\"P\" + str(indice_camada)]\n",
        "        # extrai o bias para a camada atual\n",
        "        b_atual = valores_parametros[\"b\" + str(indice_camada)]\n",
        "        # cálculo da ativação para a camada atual\n",
        "        Ativado_atual, Saida_atual = propaga_uma_camada(Ativado_anterior, Pesos_atual, b_atual, func_ativacao_atual)\n",
        "        \n",
        "        # salca os valores calculados na memória\n",
        "        memoria[\"A\" + str(indice)] = Ativado_anterior\n",
        "        memoria[\"Z\" + str(indice_camada)] = Saida_atual\n",
        "       \n",
        "    # retorna o vetor predito e um dicionário contendo os valores intermediários\n",
        "    return Ativado_atual, memoria"
      ],
      "execution_count": 16,
      "outputs": []
    },
    {
      "cell_type": "code",
      "metadata": {
        "id": "XQFbxKXg_KYD",
        "colab_type": "code",
        "colab": {}
      },
      "source": [
        "valores_parametros = inicia_camadas(arquitetura, seed = 99)\n",
        "y_estimado, memoria = propaga_total(np.transpose(X), valores_parametros, arquitetura)"
      ],
      "execution_count": 17,
      "outputs": []
    },
    {
      "cell_type": "code",
      "metadata": {
        "id": "Ks0dRmfq_gUW",
        "colab_type": "code",
        "colab": {
          "base_uri": "https://localhost:8080/",
          "height": 34
        },
        "outputId": "ba9a9b47-db45-4bd6-9b88-f2ef464d56e4"
      },
      "source": [
        "y_estimado[0,0]*ymax"
      ],
      "execution_count": 18,
      "outputs": [
        {
          "output_type": "execute_result",
          "data": {
            "text/plain": [
              "10.99763082128874"
            ]
          },
          "metadata": {
            "tags": []
          },
          "execution_count": 18
        }
      ]
    },
    {
      "cell_type": "code",
      "metadata": {
        "id": "LFTPGIai_jBw",
        "colab_type": "code",
        "colab": {
          "base_uri": "https://localhost:8080/",
          "height": 34
        },
        "outputId": "7f85e6f8-d373-45f6-ab42-a3c9865a7545"
      },
      "source": [
        "y[0]*ymax"
      ],
      "execution_count": 19,
      "outputs": [
        {
          "output_type": "execute_result",
          "data": {
            "text/plain": [
              "0.0"
            ]
          },
          "metadata": {
            "tags": []
          },
          "execution_count": 19
        }
      ]
    },
    {
      "cell_type": "markdown",
      "metadata": {
        "id": "HLj3IjF6e1ZB",
        "colab_type": "text"
      },
      "source": [
        "#Retropropagação para melhoria da rede"
      ]
    },
    {
      "cell_type": "code",
      "metadata": {
        "id": "euleyv6p_mNa",
        "colab_type": "code",
        "colab": {}
      },
      "source": [
        "def atualiza(valores_parametros, gradidentes, arquitetura, taxa_aprendizagem):\n",
        "\n",
        "    # iterações pelas camadas\n",
        "    for indice_camada, camada in enumerate(arquitetura, 1):\n",
        "        valores_parametros[\"P\" + str(indice_camada)] -= taxa_aprendizagem * gradidentes[\"dP\" + str(indice_camada)]        \n",
        "        valores_parametros[\"b\" + str(indice_camada)] -= taxa_aprendizagem * gradidentes[\"db\" + str(indice_camada)]\n",
        "\n",
        "    return valores_parametros;"
      ],
      "execution_count": 20,
      "outputs": []
    },
    {
      "cell_type": "code",
      "metadata": {
        "id": "cpg6s7o4_o1v",
        "colab_type": "code",
        "colab": {}
      },
      "source": [
        "def valor_de_custo(Y_predito, Y):\n",
        "    # numero_de_exemplos\n",
        "    m = Y_predito.shape[1]\n",
        "    \n",
        "    custo = -1 / m * (np.dot(Y, np.log(Y_predito).T) + np.dot(1 - Y, np.log(1 - Y_predito).T))\n",
        "    return np.squeeze(custo)"
      ],
      "execution_count": 21,
      "outputs": []
    },
    {
      "cell_type": "code",
      "metadata": {
        "id": "T1NaNJXw_s_H",
        "colab_type": "code",
        "colab": {}
      },
      "source": [
        "def retropropagacao_total(Y_predito, Y, memoria, valores_parametros, arquitetura):\n",
        "   \n",
        "    gradientes = {}\n",
        "    \n",
        "    # numero de exemplos\n",
        "    #m = Y.shape[1]\n",
        "    # para garantir que os dois vetores tenham a mesma dimensão\n",
        "    Y = Y.reshape(Y_predito.shape)\n",
        "    \n",
        "    # inicia o algoritmo de gradiente descendente\n",
        "    dAtivado_anterior = - (np.divide(Y, Y_predito) - np.divide(1 - Y, 1 - Y_predito));\n",
        "    \n",
        "    for indice_camada_anterior, camada in reversed(list(enumerate(arquitetura))):\n",
        "        \n",
        "        indice_camada_atual = indice_camada_anterior + 1\n",
        "        # Função de ativação para a camada atual\n",
        "        \n",
        "        funcao_ativao_atual = camada[\"ativacao\"]\n",
        "        \n",
        "        dAtivado_atual = dAtivado_anterior\n",
        "        \n",
        "        Ativado_anterior = memoria[\"A\" + str(indice_camada_anterior)]\n",
        "        Saida_atual = memoria[\"Z\" + str(indice_camada_atual)]\n",
        "        \n",
        "        Pesos_atual = valores_parametros[\"P\" + str(indice_camada_atual)]\n",
        "        b_atual = valores_parametros[\"b\" + str(indice_camada_atual)]\n",
        "        \n",
        "        dAtivado_anterior, dPesos_atual, db_atual = retropropagacao_uma_camada(\n",
        "            dAtivado_atual, Pesos_atual, b_atual, Saida_atual, Ativado_anterior, funcao_ativao_atual)\n",
        "        \n",
        "        gradientes[\"dP\" + str(indice_camada_atual)] = dPesos_atual\n",
        "        gradientes[\"db\" + str(indice_camada_atual)] = db_atual\n",
        "    \n",
        "    return gradientes"
      ],
      "execution_count": 22,
      "outputs": []
    },
    {
      "cell_type": "code",
      "metadata": {
        "id": "bN07wrUt_vzu",
        "colab_type": "code",
        "colab": {}
      },
      "source": [
        "def sigmoid_retro(dAtivado, Saida):\n",
        "    sig = sigmoid(Saida)\n",
        "    return dAtivado * sig * (1 - sig)\n",
        "\n",
        "def relu_retro(dAtivado, Saida):\n",
        "    dSaida = np.array(dAtivado, copy = True)\n",
        "    dSaida[Saida <= 0] = 0;\n",
        "    return dSaida;"
      ],
      "execution_count": 23,
      "outputs": []
    },
    {
      "cell_type": "code",
      "metadata": {
        "id": "uzE8vUVr_yP2",
        "colab_type": "code",
        "colab": {}
      },
      "source": [
        "def retropropagacao_uma_camada(dAtivado_atual, Pesos_atual, b_atual, Saida_atual, Ativado_anterior, ativacao=\"relu\"):\n",
        "    # número de exemplos\n",
        "    m = Ativado_anterior.shape[1]\n",
        "    \n",
        "    # seleção função de ativação\n",
        "    if ativacao is \"relu\":\n",
        "        func_ativacao_retro = relu_retro\n",
        "    elif ativacao is \"sigmoid\":\n",
        "        func_ativacao_retro = sigmoid_retro\n",
        "    else:\n",
        "        raise Exception('Ainda não implementamos essa funcao')\n",
        "    \n",
        "    # derivada da função de ativação\n",
        "    dSaida_atual = func_ativacao_retro(dAtivado_atual, Saida_atual)\n",
        "    \n",
        "    # derivada da matriz de Pesos\n",
        "    dPesos_atual = np.dot(dSaida_atual, Ativado_anterior.T) / m\n",
        "    # derivada do vetor b\n",
        "    db_atual = np.sum(dSaida_atual, axis=1, keepdims=True) / m\n",
        "    # derivada da matriz A_anterior\n",
        "    dAtivado_anterior = np.dot(Pesos_atual.T, dSaida_atual)\n",
        "\n",
        "    return dAtivado_anterior, dPesos_atual, db_atual"
      ],
      "execution_count": 24,
      "outputs": []
    },
    {
      "cell_type": "markdown",
      "metadata": {
        "id": "ODyr1aWGfBWB",
        "colab_type": "text"
      },
      "source": [
        "#Função para definir o treino"
      ]
    },
    {
      "cell_type": "code",
      "metadata": {
        "id": "fs3j2tS-_16u",
        "colab_type": "code",
        "colab": {}
      },
      "source": [
        "def treino(X, Y,X_teste,Y_teste, arquitetura, epocas, taxa_aprendizagem):\n",
        "    # Inicia os parâmetros da rede neural\n",
        "    valores_parametros = inicia_camadas(arquitetura, 2)\n",
        "    # Listas que vão guardar o progresso da aprendizagem da rede \n",
        "    historia_custo = []\n",
        "    historia_custo_teste = []\n",
        "   \n",
        "    \n",
        "    # Atualiza a cada época\n",
        "    for i in range(epocas):\n",
        "        # Propaga a rede - Foward propagation\n",
        "        Y_predito, memoria = propaga_total(X, valores_parametros, arquitetura)\n",
        "        \n",
        "        Y_predito_teste, memoria2 = propaga_total(X_teste, valores_parametros, \n",
        "                                                  arquitetura)\n",
        "        \n",
        "        # calcula as métricas e salva nas listas de história\n",
        "        custo = valor_de_custo(Y_predito, Y)\n",
        "        historia_custo.append(custo)\n",
        "        custo_teste = valor_de_custo(Y_predito_teste, Y_teste)\n",
        "        historia_custo_teste.append(custo_teste)\n",
        "        \n",
        "        \n",
        "        # Retropropagação - Backpropagation\n",
        "        gradientes = retropropagacao_total(Y_predito, Y, memoria, \n",
        "                                           valores_parametros, arquitetura)\n",
        "        # Atualiza os pesos\n",
        "        valores_parametros = atualiza(valores_parametros, gradientes, \n",
        "                                      arquitetura, taxa_aprendizagem)\n",
        "        \n",
        "        if(i % 100 == 0):\n",
        "            \n",
        "            print(\"Iteração: {:05} - custo: {:.5f} \".format(i, custo))\n",
        "            \n",
        "            \n",
        "    return valores_parametros, historia_custo, historia_custo_teste"
      ],
      "execution_count": 25,
      "outputs": []
    },
    {
      "cell_type": "markdown",
      "metadata": {
        "id": "AINXQ4qJfVgv",
        "colab_type": "text"
      },
      "source": [
        "#Split dos dados para treino e teste"
      ]
    },
    {
      "cell_type": "code",
      "metadata": {
        "id": "TmUag-eB_7rg",
        "colab_type": "code",
        "colab": {}
      },
      "source": [
        "X_treino, X_teste, y_treino, y_teste = train_test_split( X, y, test_size=0.43, random_state=42)"
      ],
      "execution_count": 26,
      "outputs": []
    },
    {
      "cell_type": "markdown",
      "metadata": {
        "id": "T9gfphNvfnra",
        "colab_type": "text"
      },
      "source": [
        "#Treino"
      ]
    },
    {
      "cell_type": "code",
      "metadata": {
        "id": "1oxlKHuqAA_C",
        "colab_type": "code",
        "colab": {
          "base_uri": "https://localhost:8080/",
          "height": 102
        },
        "outputId": "ff8e9590-86bf-4111-bf56-19f8a700bc7f"
      },
      "source": [
        "# Treinamento\n",
        "valores_parametros, historia_custo, historia_custo_teste = treino(np.transpose(X_treino), np.transpose(y_treino.reshape((y_treino.shape[0], 1))), \n",
        "                                                                  np.transpose(X_teste), np.transpose(y_teste.reshape((y_teste.shape[0], 1))), \n",
        "                                                                  arquitetura, 500, 0.01)"
      ],
      "execution_count": 27,
      "outputs": [
        {
          "output_type": "stream",
          "text": [
            "Iteração: 00000 - custo: 0.50291 \n",
            "Iteração: 00100 - custo: 0.26546 \n",
            "Iteração: 00200 - custo: 0.26282 \n",
            "Iteração: 00300 - custo: 0.26092 \n",
            "Iteração: 00400 - custo: 0.25913 \n"
          ],
          "name": "stdout"
        }
      ]
    },
    {
      "cell_type": "markdown",
      "metadata": {
        "id": "Yq0M_rgOfsUq",
        "colab_type": "text"
      },
      "source": [
        "#Gráfico de treinamento"
      ]
    },
    {
      "cell_type": "code",
      "metadata": {
        "id": "jXxfiaDKAlz3",
        "colab_type": "code",
        "colab": {
          "base_uri": "https://localhost:8080/",
          "height": 281
        },
        "outputId": "6f59c278-529e-4616-9328-b6450be8a074"
      },
      "source": [
        "plt.plot(historia_custo,'g')\n",
        "plt.plot(historia_custo_teste, 'r')\n",
        "plt.legend(['Treinamento','Teste'])\n",
        "plt.ylabel('Custo')\n",
        "plt.xlabel('Épocas')\n",
        "plt.show()"
      ],
      "execution_count": 28,
      "outputs": [
        {
          "output_type": "display_data",
          "data": {
            "image/png": "[encoded data removed]",
            "text/plain": [
              "<Figure size 432x288 with 1 Axes>"
            ]
          },
          "metadata": {
            "tags": [],
            "needs_background": "light"
          }
        }
      ]
    },
    {
      "cell_type": "markdown",
      "metadata": {
        "id": "HtkA2h_Sfzcu",
        "colab_type": "text"
      },
      "source": [
        "# Previsão"
      ]
    },
    {
      "cell_type": "code",
      "metadata": {
        "id": "nL4ER1M6A7QQ",
        "colab_type": "code",
        "colab": {}
      },
      "source": [
        "# Previsão\n",
        "Y_pred, _ = propaga_total(np.transpose(X_teste), valores_parametros, arquitetura)"
      ],
      "execution_count": 29,
      "outputs": []
    },
    {
      "cell_type": "markdown",
      "metadata": {
        "id": "1t5I00kjgGo5",
        "colab_type": "text"
      },
      "source": [
        "#Gráfico de previsão\n",
        "É possivel notar que o modelo não respondeu bem para eventos extremos"
      ]
    },
    {
      "cell_type": "code",
      "metadata": {
        "id": "t6XHN4BUBB7D",
        "colab_type": "code",
        "colab": {
          "base_uri": "https://localhost:8080/",
          "height": 279
        },
        "outputId": "963e61e6-4581-4a8b-8ec6-d973c9b93957"
      },
      "source": [
        "plt.plot(np.transpose(X_teste)[1],ymax*y_teste,'.r')\n",
        "plt.plot(np.transpose(X_teste)[1],ymax*Y_pred.reshape([-1,1]),'.g')\n",
        "plt.legend(['Reais','Preditos'])\n",
        "plt.ylabel(['Reais','Preditos'])\n",
        "plt.xlabel('group')\n",
        "plt.show()"
      ],
      "execution_count": 30,
      "outputs": [
        {
          "output_type": "display_data",
          "data": {
            "image/png": "[encoded data removed]",
            "text/plain": [
              "<Figure size 432x288 with 1 Axes>"
            ]
          },
          "metadata": {
            "tags": [],
            "needs_background": "light"
          }
        }
      ]
    },
    {
      "cell_type": "markdown",
      "metadata": {
        "id": "STtTIMG0gqvg",
        "colab_type": "text"
      },
      "source": [
        "#Agregação dos resultados e ajustes"
      ]
    },
    {
      "cell_type": "code",
      "metadata": {
        "id": "Yw7yMJXUyUps",
        "colab_type": "code",
        "colab": {}
      },
      "source": [
        "prev = []\n",
        "real = []\n",
        "for i in ymax*Y_pred.reshape([-1,1]):\n",
        "    prev.append(i[0])\n",
        "for i in ymax*y_teste:\n",
        "    real.append(i)"
      ],
      "execution_count": 31,
      "outputs": []
    },
    {
      "cell_type": "code",
      "metadata": {
        "id": "jzu04iAPIF0i",
        "colab_type": "code",
        "colab": {
          "base_uri": "https://localhost:8080/",
          "height": 34
        },
        "outputId": "c718d753-8c3f-45db-9128-4634020d7a7c"
      },
      "source": [
        "df_test = pd.DataFrame({\n",
        "    'real':real,\n",
        "    'prev':prev\n",
        "})\n",
        "adjust_prev = df_test[df_test['real']==0]['prev'].mean()\n",
        "adjust_prev"
      ],
      "execution_count": 32,
      "outputs": [
        {
          "output_type": "execute_result",
          "data": {
            "text/plain": [
              "1.4988014976610073"
            ]
          },
          "metadata": {
            "tags": []
          },
          "execution_count": 32
        }
      ]
    },
    {
      "cell_type": "code",
      "metadata": {
        "id": "8PAwgPVuQI0q",
        "colab_type": "code",
        "colab": {
          "base_uri": "https://localhost:8080/",
          "height": 419
        },
        "outputId": "cf6d5fe9-fc2e-4613-a011-6dd8fdb94d53"
      },
      "source": [
        "#Ajuste de valores zero, o modelo superestimou o valor de zero\n",
        "df_test.loc[df_test['prev']<adjust_prev,'prev']=0.0\n",
        "df_test = df_test.round(0)\n",
        "df_test"
      ],
      "execution_count": 33,
      "outputs": [
        {
          "output_type": "execute_result",
          "data": {
            "text/html": [
              "<div>\n",
              "<style scoped>\n",
              "    .dataframe tbody tr th:only-of-type {\n",
              "        vertical-align: middle;\n",
              "    }\n",
              "\n",
              "    .dataframe tbody tr th {\n",
              "        vertical-align: top;\n",
              "    }\n",
              "\n",
              "    .dataframe thead th {\n",
              "        text-align: right;\n",
              "    }\n",
              "</style>\n",
              "<table border=\"1\" class=\"dataframe\">\n",
              "  <thead>\n",
              "    <tr style=\"text-align: right;\">\n",
              "      <th></th>\n",
              "      <th>real</th>\n",
              "      <th>prev</th>\n",
              "    </tr>\n",
              "  </thead>\n",
              "  <tbody>\n",
              "    <tr>\n",
              "      <th>0</th>\n",
              "      <td>4.0</td>\n",
              "      <td>2.0</td>\n",
              "    </tr>\n",
              "    <tr>\n",
              "      <th>1</th>\n",
              "      <td>0.0</td>\n",
              "      <td>0.0</td>\n",
              "    </tr>\n",
              "    <tr>\n",
              "      <th>2</th>\n",
              "      <td>0.0</td>\n",
              "      <td>0.0</td>\n",
              "    </tr>\n",
              "    <tr>\n",
              "      <th>3</th>\n",
              "      <td>2.0</td>\n",
              "      <td>0.0</td>\n",
              "    </tr>\n",
              "    <tr>\n",
              "      <th>4</th>\n",
              "      <td>0.0</td>\n",
              "      <td>2.0</td>\n",
              "    </tr>\n",
              "    <tr>\n",
              "      <th>...</th>\n",
              "      <td>...</td>\n",
              "      <td>...</td>\n",
              "    </tr>\n",
              "    <tr>\n",
              "      <th>2145</th>\n",
              "      <td>4.0</td>\n",
              "      <td>3.0</td>\n",
              "    </tr>\n",
              "    <tr>\n",
              "      <th>2146</th>\n",
              "      <td>2.0</td>\n",
              "      <td>2.0</td>\n",
              "    </tr>\n",
              "    <tr>\n",
              "      <th>2147</th>\n",
              "      <td>0.0</td>\n",
              "      <td>3.0</td>\n",
              "    </tr>\n",
              "    <tr>\n",
              "      <th>2148</th>\n",
              "      <td>1.0</td>\n",
              "      <td>0.0</td>\n",
              "    </tr>\n",
              "    <tr>\n",
              "      <th>2149</th>\n",
              "      <td>2.0</td>\n",
              "      <td>3.0</td>\n",
              "    </tr>\n",
              "  </tbody>\n",
              "</table>\n",
              "<p>2150 rows × 2 columns</p>\n",
              "</div>"
            ],
            "text/plain": [
              "      real  prev\n",
              "0      4.0   2.0\n",
              "1      0.0   0.0\n",
              "2      0.0   0.0\n",
              "3      2.0   0.0\n",
              "4      0.0   2.0\n",
              "...    ...   ...\n",
              "2145   4.0   3.0\n",
              "2146   2.0   2.0\n",
              "2147   0.0   3.0\n",
              "2148   1.0   0.0\n",
              "2149   2.0   3.0\n",
              "\n",
              "[2150 rows x 2 columns]"
            ]
          },
          "metadata": {
            "tags": []
          },
          "execution_count": 33
        }
      ]
    },
    {
      "cell_type": "code",
      "metadata": {
        "id": "Bwk7jBOeIcDM",
        "colab_type": "code",
        "colab": {
          "base_uri": "https://localhost:8080/",
          "height": 34
        },
        "outputId": "cf0b518f-5e60-49de-a2f2-72b9ca8f94e7"
      },
      "source": [
        "accuracy_score(df_test['real'],df_test['prev'])"
      ],
      "execution_count": 34,
      "outputs": [
        {
          "output_type": "execute_result",
          "data": {
            "text/plain": [
              "0.4702325581395349"
            ]
          },
          "metadata": {
            "tags": []
          },
          "execution_count": 34
        }
      ]
    },
    {
      "cell_type": "code",
      "metadata": {
        "id": "WKva7yjWKijN",
        "colab_type": "code",
        "colab": {
          "base_uri": "https://localhost:8080/",
          "height": 34
        },
        "outputId": "8af681a1-23b1-4bb9-960e-3fe6f9ed80b9"
      },
      "source": [
        "df_test.loc[df_test['real']>0,'real_binary']=1.0\n",
        "df_test.loc[df_test['prev']>0,'prev_binary']=1.0\n",
        "df_test.loc[df_test['real']<=0,'real_binary']=0.0\n",
        "df_test.loc[df_test['prev']<=0,'prev_binary']=0.0\n",
        "accuracy_score(df_test['real_binary'],df_test['prev_binary'])"
      ],
      "execution_count": 38,
      "outputs": [
        {
          "output_type": "execute_result",
          "data": {
            "text/plain": [
              "0.752093023255814"
            ]
          },
          "metadata": {
            "tags": []
          },
          "execution_count": 38
        }
      ]
    },
    {
      "cell_type": "code",
      "metadata": {
        "id": "alT4K5r-hMtA",
        "colab_type": "code",
        "colab": {
          "base_uri": "https://localhost:8080/",
          "height": 34
        },
        "outputId": "0c0015d9-5f34-4505-f64e-9aed85b2c307"
      },
      "source": [
        "print(f'A acurácia do modelo pra definir o numero de semestres foi de {round(accuracy_score(df_test[\"real\"],df_test[\"prev\"]),4)*100}%, para verificar se o aluno vai ou não se formar com atraso foi de {round(accuracy_score(df_test[\"real_binary\"],df_test[\"prev_binary\"]),4)*100}%.')"
      ],
      "execution_count": 39,
      "outputs": [
        {
          "output_type": "stream",
          "text": [
            "A acurácia do modelo pra definir o numero de semestres foi de 47.02%, para verificar se o aluno vai ou não se formar com atraso foi de 75.21%.\n"
          ],
          "name": "stdout"
        }
      ]
    }
  ]
}